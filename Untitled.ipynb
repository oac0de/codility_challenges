{
 "cells": [
  {
   "cell_type": "markdown",
   "metadata": {
    "ExecuteTime": {
     "end_time": "2021-03-16T23:24:35.215337Z",
     "start_time": "2021-03-16T23:24:35.212645Z"
    }
   },
   "source": [
    "# Question 2"
   ]
  },
  {
   "cell_type": "markdown",
   "metadata": {},
   "source": [
    "Given 4 digits, count how many valid times can be displayed on a digital clock (in 24-hour format) using those digits. The earliest time is 00:00 and latest time is 23:59."
   ]
  },
  {
   "cell_type": "code",
   "execution_count": 1,
   "metadata": {
    "ExecuteTime": {
     "end_time": "2021-04-16T22:19:58.946532Z",
     "start_time": "2021-04-16T22:19:40.349524Z"
    },
    "scrolled": true
   },
   "outputs": [
    {
     "name": "stdout",
     "output_type": "stream",
     "text": [
      "1 3 4 5\n"
     ]
    }
   ],
   "source": [
    "A, B, C, D = map(int, input().split())"
   ]
  },
  {
   "cell_type": "markdown",
   "metadata": {},
   "source": [
    "Thinking out loud here. So each number here has to iterate through possibilities of each digit place on the block.\n",
    "A lot of for loops are coming to mind for this, and I'm not sure there is a way out of it. For example, if this digit is 0 <= A <= 2, then it can be appended to a space [0] in the digit list."
   ]
  },
  {
   "cell_type": "markdown",
   "metadata": {},
   "source": [
    "**geeks for geeks maximum time approach:**\n",
    "\n",
    "Approach: Create a HashMap and store the frequency of each digit in the map which can be used to know how many of such digits are available.\n",
    "Now, in order to generate a valid time following conditions must be satisfied:\n",
    "\n",
    "\n",
    "\n",
    "• First digit of hours must be from the range [0, 2]. Start checking in decreasing order in order to maximize the time i.e. from 2 to 0. Once the digit is chosen, decrement it’s occurrence in the map by 1.\n",
    "\n",
    "• Second digit of hours must be from the range [0, 3] if first digit was chosen as 2 else [0, 9]. Update the HashMap accordingly after choosing the digit.\n",
    "\n",
    "• First digit of minutes must be from the range [0, 5] and second digit of minutes must be from the range [0, 9].\n",
    "If any of the above condition fails i.e. no digit could be chosen at any point then print -1 else print the time."
   ]
  },
  {
   "cell_type": "code",
   "execution_count": 11,
   "metadata": {
    "ExecuteTime": {
     "end_time": "2021-03-17T13:48:17.937059Z",
     "start_time": "2021-03-17T13:48:17.932364Z"
    },
    "scrolled": false
   },
   "outputs": [],
   "source": [
    "def solution(A, B, C, D):\n",
    "    numbers = [A, B, C, D]\n"
   ]
  },
  {
   "cell_type": "code",
   "execution_count": 9,
   "metadata": {
    "ExecuteTime": {
     "end_time": "2021-04-16T00:50:43.536212Z",
     "start_time": "2021-04-16T00:50:43.531658Z"
    }
   },
   "outputs": [
    {
     "data": {
      "text/plain": [
       "(1, 3, 4, 5)"
      ]
     },
     "execution_count": 9,
     "metadata": {},
     "output_type": "execute_result"
    }
   ],
   "source": [
    "arr = (A, B, C, D)\n",
    "arr\n"
   ]
  },
  {
   "cell_type": "code",
   "execution_count": 6,
   "metadata": {
    "ExecuteTime": {
     "end_time": "2021-04-16T00:50:29.507771Z",
     "start_time": "2021-04-16T00:50:29.504842Z"
    }
   },
   "outputs": [],
   "source": [
    "from collections import defaultdict"
   ]
  },
  {
   "cell_type": "code",
   "execution_count": 10,
   "metadata": {
    "ExecuteTime": {
     "end_time": "2021-04-16T00:50:46.254304Z",
     "start_time": "2021-04-16T00:50:46.248506Z"
    },
    "scrolled": true
   },
   "outputs": [
    {
     "data": {
      "text/plain": [
       "defaultdict(<function __main__.getFrequencyMap.<locals>.<lambda>()>,\n",
       "            {1: 1, 3: 1, 4: 1, 5: 1})"
      ]
     },
     "execution_count": 10,
     "metadata": {},
     "output_type": "execute_result"
    }
   ],
   "source": [
    "def getFrequencyMap(arr):  \n",
    "    n = len(arr)\n",
    "    hashMap = defaultdict(lambda:0)  \n",
    "    for i in range(n):  \n",
    "        hashMap[arr[i]] += 1\n",
    "          \n",
    "    return hashMap \n",
    "\n"
   ]
  },
  {
   "cell_type": "code",
   "execution_count": 11,
   "metadata": {
    "ExecuteTime": {
     "end_time": "2021-04-16T00:52:17.850997Z",
     "start_time": "2021-04-16T00:52:17.847037Z"
    },
    "scrolled": false
   },
   "outputs": [
    {
     "data": {
      "text/plain": [
       "defaultdict(<function __main__.getFrequencyMap.<locals>.<lambda>()>,\n",
       "            {1: 1, 3: 1, 4: 1, 5: 1})"
      ]
     },
     "execution_count": 11,
     "metadata": {},
     "output_type": "execute_result"
    }
   ],
   "source": [
    "hashMap = getFrequencyMap(arr)\n",
    "hashMap"
   ]
  },
  {
   "cell_type": "code",
   "execution_count": 22,
   "metadata": {
    "ExecuteTime": {
     "end_time": "2021-04-16T00:53:23.172903Z",
     "start_time": "2021-04-16T00:53:23.165267Z"
    }
   },
   "outputs": [
    {
     "ename": "TypeError",
     "evalue": "'builtin_function_or_method' object is not iterable",
     "output_type": "error",
     "traceback": [
      "\u001b[0;31m---------------------------------------------------------------------------\u001b[0m",
      "\u001b[0;31mTypeError\u001b[0m                                 Traceback (most recent call last)",
      "\u001b[0;32m<ipython-input-22-fd2399737542>\u001b[0m in \u001b[0;36m<module>\u001b[0;34m\u001b[0m\n\u001b[0;32m----> 1\u001b[0;31m \u001b[0mlist\u001b[0m\u001b[0;34m(\u001b[0m\u001b[0mhashMap\u001b[0m\u001b[0;34m.\u001b[0m\u001b[0mkeys\u001b[0m\u001b[0;34m)\u001b[0m\u001b[0;34m\u001b[0m\u001b[0;34m\u001b[0m\u001b[0m\n\u001b[0m",
      "\u001b[0;31mTypeError\u001b[0m: 'builtin_function_or_method' object is not iterable"
     ]
    }
   ],
   "source": [
    "for "
   ]
  },
  {
   "cell_type": "code",
   "execution_count": 23,
   "metadata": {
    "ExecuteTime": {
     "end_time": "2021-04-16T01:07:11.914933Z",
     "start_time": "2021-04-16T01:07:11.901156Z"
    }
   },
   "outputs": [
    {
     "name": "stdout",
     "output_type": "stream",
     "text": [
      "09:00\n"
     ]
    }
   ],
   "source": [
    "# Python3 implementation of the approach \n",
    "from collections import defaultdict\n",
    "  \n",
    "# Function to return the updated frequency \n",
    "# map for the array passed as argument \n",
    "def getFrequencyMap(arr, n): \n",
    "      \n",
    "    hashMap = defaultdict(lambda:0) \n",
    "    for i in range(n): \n",
    "        hashMap[arr[i]] += 1\n",
    "          \n",
    "    return hashMap \n",
    "      \n",
    "# Function that returns true if the passed \n",
    "# digit is present in the map after \n",
    "# decrementing it's frequency by 1 \n",
    "def hasDigit(hashMap, digit): \n",
    "      \n",
    "    # If map contains the digit \n",
    "    if hashMap[digit] > 0: \n",
    "      \n",
    "        # Decrement the frequency of\n",
    "        # the digit by 1 \n",
    "        hashMap[digit] -= 1\n",
    "      \n",
    "        # True here indicates that the \n",
    "        # digit was found in the map \n",
    "        return True\n",
    "      \n",
    "    # Digit not found \n",
    "    return False\n",
    "      \n",
    "# Function to return the maximum possible \n",
    "# time_value in 24-Hours format \n",
    "def getMaxtime_value(arr, n): \n",
    "      \n",
    "    hashMap = getFrequencyMap(arr, n) \n",
    "    flag = False\n",
    "    time_value = \"\" \n",
    "      \n",
    "    # First digit of hours can be\n",
    "    # from the range [0, 2] \n",
    "    for i in range(2, -1, -1): \n",
    "        if hasDigit(hashMap, i) == True: \n",
    "            flag = True\n",
    "            time_value += str(i)\n",
    "            break\n",
    "      \n",
    "    # If no valid digit found \n",
    "    if not flag:\n",
    "        return \"-1\"\n",
    "      \n",
    "    flag = False\n",
    "      \n",
    "    # If first digit of hours was chosen as 2 then \n",
    "    # the second digit of hours can be \n",
    "    # from the range [0, 3]\n",
    "    if(time_value[0] == '2'):\n",
    "        for i in range(3, -1, -1):\n",
    "            if hasDigit(hashMap, i) == True: \n",
    "                flag = True\n",
    "                time_value += str(i) \n",
    "                break\n",
    "      \n",
    "    # Else it can be from the range [0, 9]\n",
    "    else:\n",
    "        for i in range(9, -1, -1):\n",
    "            if hasDigit(hashMap, i) == True: \n",
    "                flag = True\n",
    "                time_value += str(i) \n",
    "                break\n",
    "              \n",
    "    if not flag: \n",
    "        return \"-1\"\n",
    "      \n",
    "    # Hours and minutes separator \n",
    "    time_value += \":\"\n",
    "      \n",
    "    flag = False\n",
    "      \n",
    "    # First digit of minutes can be\n",
    "    # from the range [0, 5] \n",
    "    for i in range(5, -1, -1): \n",
    "        if hasDigit(hashMap, i) == True: \n",
    "            flag = True\n",
    "            time_value += str(i) \n",
    "            break\n",
    "          \n",
    "    if not flag:\n",
    "        return \"-1\"\n",
    "      \n",
    "    flag = False\n",
    "      \n",
    "    # Second digit of minutes can be \n",
    "    # from the range [0, 9] \n",
    "    for i in range(9, -1, -1): \n",
    "        if hasDigit(hashMap, i) == True: \n",
    "            flag = True\n",
    "            time_value += str(i) \n",
    "            break\n",
    "          \n",
    "    if not flag:\n",
    "        return \"-1\"\n",
    "      \n",
    "    # Return the maximum possible \n",
    "    # time_value \n",
    "    return time_value \n",
    "      \n",
    "# Driver code \n",
    "if __name__ == \"__main__\": \n",
    "      \n",
    "    arr = [0, 0, 0, 9] \n",
    "    n = len(arr)\n",
    "    print(getMaxtime_value(arr, n)) \n",
    "      \n",
    "# This code is contributed by \n",
    "# Rituraj Jain"
   ]
  },
  {
   "cell_type": "code",
   "execution_count": null,
   "metadata": {},
   "outputs": [],
   "source": []
  }
 ],
 "metadata": {
  "kernelspec": {
   "display_name": "Python 3",
   "language": "python",
   "name": "python3"
  },
  "language_info": {
   "codemirror_mode": {
    "name": "ipython",
    "version": 3
   },
   "file_extension": ".py",
   "mimetype": "text/x-python",
   "name": "python",
   "nbconvert_exporter": "python",
   "pygments_lexer": "ipython3",
   "version": "3.6.9"
  },
  "toc": {
   "base_numbering": 1,
   "nav_menu": {},
   "number_sections": true,
   "sideBar": true,
   "skip_h1_title": false,
   "title_cell": "Table of Contents",
   "title_sidebar": "Contents",
   "toc_cell": false,
   "toc_position": {},
   "toc_section_display": true,
   "toc_window_display": false
  },
  "varInspector": {
   "cols": {
    "lenName": 16,
    "lenType": 16,
    "lenVar": 40
   },
   "kernels_config": {
    "python": {
     "delete_cmd_postfix": "",
     "delete_cmd_prefix": "del ",
     "library": "var_list.py",
     "varRefreshCmd": "print(var_dic_list())"
    },
    "r": {
     "delete_cmd_postfix": ") ",
     "delete_cmd_prefix": "rm(",
     "library": "var_list.r",
     "varRefreshCmd": "cat(var_dic_list()) "
    }
   },
   "types_to_exclude": [
    "module",
    "function",
    "builtin_function_or_method",
    "instance",
    "_Feature"
   ],
   "window_display": false
  }
 },
 "nbformat": 4,
 "nbformat_minor": 2
}
