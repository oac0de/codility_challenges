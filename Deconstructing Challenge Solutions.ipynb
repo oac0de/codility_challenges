{
 "cells": [
  {
   "cell_type": "markdown",
   "metadata": {},
   "source": [
    "# First challenge: https://app.codility.com/c/run/trainingDUVMCF-8E6/"
   ]
  },
  {
   "cell_type": "code",
   "execution_count": 41,
   "metadata": {
    "ExecuteTime": {
     "end_time": "2021-03-13T02:05:58.047911Z",
     "start_time": "2021-03-13T02:05:56.671885Z"
    }
   },
   "outputs": [
    {
     "name": "stdout",
     "output_type": "stream",
     "text": [
      "304\n"
     ]
    }
   ],
   "source": [
    "N = int(input())"
   ]
  },
  {
   "cell_type": "code",
   "execution_count": 46,
   "metadata": {
    "ExecuteTime": {
     "end_time": "2021-03-13T02:06:28.707931Z",
     "start_time": "2021-03-13T02:06:28.704013Z"
    }
   },
   "outputs": [
    {
     "name": "stdout",
     "output_type": "stream",
     "text": [
      "2\n"
     ]
    }
   ],
   "source": [
    "def solution(N):\n",
    "   print(len(max(bin(N)[2:].strip('0').strip('1').split('1'))))\n",
    "\n",
    "solution(N)"
   ]
  },
  {
   "cell_type": "markdown",
   "metadata": {},
   "source": [
    "**Deconstructing this solution:**"
   ]
  },
  {
   "cell_type": "markdown",
   "metadata": {},
   "source": [
    "When we convert a number to binary in python using 'bin(N)', it always gives us a '0b' in the beginning:"
   ]
  },
  {
   "cell_type": "code",
   "execution_count": 47,
   "metadata": {
    "ExecuteTime": {
     "end_time": "2021-03-13T02:08:23.498606Z",
     "start_time": "2021-03-13T02:08:23.489335Z"
    }
   },
   "outputs": [
    {
     "data": {
      "text/plain": [
       "'0b100110000'"
      ]
     },
     "execution_count": 47,
     "metadata": {},
     "output_type": "execute_result"
    }
   ],
   "source": [
    "bin(304)"
   ]
  },
  {
   "cell_type": "markdown",
   "metadata": {},
   "source": [
    "So we slice after the first two characters with '[2:]':"
   ]
  },
  {
   "cell_type": "code",
   "execution_count": 48,
   "metadata": {
    "ExecuteTime": {
     "end_time": "2021-03-13T02:09:36.238927Z",
     "start_time": "2021-03-13T02:09:36.234971Z"
    }
   },
   "outputs": [
    {
     "data": {
      "text/plain": [
       "'100110000'"
      ]
     },
     "execution_count": 48,
     "metadata": {},
     "output_type": "execute_result"
    }
   ],
   "source": [
    "bin(304)[2:]"
   ]
  },
  {
   "cell_type": "markdown",
   "metadata": {
    "ExecuteTime": {
     "end_time": "2021-03-13T02:10:43.771238Z",
     "start_time": "2021-03-13T02:10:43.766960Z"
    }
   },
   "source": [
    "As we are just trying to count the maximum gap in between the 1s, we use '.strip()'. So .strip('0') strips any outer 0s:"
   ]
  },
  {
   "cell_type": "code",
   "execution_count": 50,
   "metadata": {
    "ExecuteTime": {
     "end_time": "2021-03-13T02:11:07.047358Z",
     "start_time": "2021-03-13T02:11:07.042948Z"
    }
   },
   "outputs": [
    {
     "data": {
      "text/plain": [
       "'10011'"
      ]
     },
     "execution_count": 50,
     "metadata": {},
     "output_type": "execute_result"
    }
   ],
   "source": [
    "bin(304)[2:].strip('0')"
   ]
  },
  {
   "cell_type": "markdown",
   "metadata": {},
   "source": [
    "Getting there! Now we strip the outer 1s with .strip('1'):"
   ]
  },
  {
   "cell_type": "code",
   "execution_count": 51,
   "metadata": {
    "ExecuteTime": {
     "end_time": "2021-03-13T02:12:01.956206Z",
     "start_time": "2021-03-13T02:12:01.952214Z"
    }
   },
   "outputs": [
    {
     "data": {
      "text/plain": [
       "'00'"
      ]
     },
     "execution_count": 51,
     "metadata": {},
     "output_type": "execute_result"
    }
   ],
   "source": [
    "bin(304)[2:].strip('0').strip('1')"
   ]
  },
  {
   "cell_type": "markdown",
   "metadata": {},
   "source": [
    "at this point we could just count the length of the zeros with 'len()', but this disregards some edge cases. What if there was two gaps of zeros? Let's input a different value this time:"
   ]
  },
  {
   "cell_type": "code",
   "execution_count": 52,
   "metadata": {
    "ExecuteTime": {
     "end_time": "2021-03-13T02:13:14.520134Z",
     "start_time": "2021-03-13T02:13:14.515895Z"
    }
   },
   "outputs": [
    {
     "data": {
      "text/plain": [
       "'000001000'"
      ]
     },
     "execution_count": 52,
     "metadata": {},
     "output_type": "execute_result"
    }
   ],
   "source": [
    "bin(1041)[2:].strip('0').strip('1')"
   ]
  },
  {
   "cell_type": "markdown",
   "metadata": {},
   "source": [
    "aha. So we split the remaining values at the 1 with .split('1'):"
   ]
  },
  {
   "cell_type": "code",
   "execution_count": 55,
   "metadata": {
    "ExecuteTime": {
     "end_time": "2021-03-13T02:14:26.879348Z",
     "start_time": "2021-03-13T02:14:26.875325Z"
    }
   },
   "outputs": [
    {
     "data": {
      "text/plain": [
       "['00000', '000']"
      ]
     },
     "execution_count": 55,
     "metadata": {},
     "output_type": "execute_result"
    }
   ],
   "source": [
    "bin(1041)[2:].strip('0').strip('1').split('1')"
   ]
  },
  {
   "cell_type": "markdown",
   "metadata": {
    "ExecuteTime": {
     "end_time": "2021-03-13T02:14:30.118003Z",
     "start_time": "2021-03-13T02:14:30.114439Z"
    }
   },
   "source": [
    "Great. Now we count the greater gap with 'max()':"
   ]
  },
  {
   "cell_type": "code",
   "execution_count": 57,
   "metadata": {
    "ExecuteTime": {
     "end_time": "2021-03-13T02:17:24.103963Z",
     "start_time": "2021-03-13T02:17:24.100130Z"
    }
   },
   "outputs": [
    {
     "data": {
      "text/plain": [
       "'00000'"
      ]
     },
     "execution_count": 57,
     "metadata": {},
     "output_type": "execute_result"
    }
   ],
   "source": [
    "max(bin(1041)[2:].strip('0').strip('1').split('1'))"
   ]
  },
  {
   "cell_type": "markdown",
   "metadata": {},
   "source": [
    "Now we count the length of the maximum gap! (len())"
   ]
  },
  {
   "cell_type": "code",
   "execution_count": 58,
   "metadata": {
    "ExecuteTime": {
     "end_time": "2021-03-13T02:18:38.063526Z",
     "start_time": "2021-03-13T02:18:38.059212Z"
    },
    "scrolled": true
   },
   "outputs": [
    {
     "data": {
      "text/plain": [
       "5"
      ]
     },
     "execution_count": 58,
     "metadata": {},
     "output_type": "execute_result"
    }
   ],
   "source": [
    "len(max(bin(1041)[2:].strip('0').strip('1').split('1')))"
   ]
  },
  {
   "cell_type": "markdown",
   "metadata": {},
   "source": [
    "# Question 2: https://app.codility.com/c/run/training8VJ2XN-9P5/"
   ]
  },
  {
   "cell_type": "markdown",
   "metadata": {},
   "source": [
    "Ok, gonna try to learn something additional right now. I want to figure out how I can input a list along with the K number.\n",
    "\n",
    "*note: I will delete any cells that i use for experimenting and just save the working answers, as the experiment cells won't do me any good in the future.*"
   ]
  },
  {
   "cell_type": "code",
   "execution_count": 39,
   "metadata": {
    "ExecuteTime": {
     "end_time": "2021-03-13T03:17:44.125075Z",
     "start_time": "2021-03-13T03:17:06.277141Z"
    },
    "scrolled": false
   },
   "outputs": [
    {
     "name": "stdout",
     "output_type": "stream",
     "text": [
      "\n",
      "Enter the numbers : 3 8 9 7 6\n",
      "3\n"
     ]
    }
   ],
   "source": [
    "A = list(map(int,input(\"\\nEnter the numbers : \").strip().split()))\n",
    "K = int(input())"
   ]
  },
  {
   "cell_type": "code",
   "execution_count": 41,
   "metadata": {
    "ExecuteTime": {
     "end_time": "2021-03-13T03:20:31.757455Z",
     "start_time": "2021-03-13T03:20:31.753831Z"
    }
   },
   "outputs": [
    {
     "data": {
      "text/plain": [
       "[6, 9, 4, 2, 0]"
      ]
     },
     "execution_count": 41,
     "metadata": {},
     "output_type": "execute_result"
    }
   ],
   "source": [
    "a"
   ]
  },
  {
   "cell_type": "markdown",
   "metadata": {},
   "source": [
    "So I know that 'map(int, input())' will tell(\"map\") each value in the input to be an integer. If we get more than one value, '.strip()' will strip all spaces from the ends of the input. "
   ]
  },
  {
   "cell_type": "code",
   "execution_count": 40,
   "metadata": {
    "ExecuteTime": {
     "end_time": "2021-03-13T03:18:36.112877Z",
     "start_time": "2021-03-13T03:18:30.875563Z"
    }
   },
   "outputs": [
    {
     "name": "stdout",
     "output_type": "stream",
     "text": [
      "\n",
      "Enter the numbers : 3 4 3 2\n"
     ]
    },
    {
     "ename": "ValueError",
     "evalue": "invalid literal for int() with base 10: ' '",
     "output_type": "error",
     "traceback": [
      "\u001b[0;31m---------------------------------------------------------------------------\u001b[0m",
      "\u001b[0;31mValueError\u001b[0m                                Traceback (most recent call last)",
      "\u001b[0;32m<ipython-input-40-b8de931b26cc>\u001b[0m in \u001b[0;36m<module>\u001b[0;34m\u001b[0m\n\u001b[0;32m----> 1\u001b[0;31m \u001b[0mA\u001b[0m \u001b[0;34m=\u001b[0m \u001b[0mlist\u001b[0m\u001b[0;34m(\u001b[0m\u001b[0mmap\u001b[0m\u001b[0;34m(\u001b[0m\u001b[0mint\u001b[0m\u001b[0;34m,\u001b[0m\u001b[0minput\u001b[0m\u001b[0;34m(\u001b[0m\u001b[0;34m\"\\nEnter the numbers : \"\u001b[0m\u001b[0;34m)\u001b[0m\u001b[0;34m.\u001b[0m\u001b[0mstrip\u001b[0m\u001b[0;34m(\u001b[0m\u001b[0;34m)\u001b[0m\u001b[0;34m)\u001b[0m\u001b[0;34m)\u001b[0m\u001b[0;34m\u001b[0m\u001b[0;34m\u001b[0m\u001b[0m\n\u001b[0m",
      "\u001b[0;31mValueError\u001b[0m: invalid literal for int() with base 10: ' '"
     ]
    }
   ],
   "source": [
    "A = list(map(int,input(\"\\nEnter the numbers : \").strip()))"
   ]
  },
  {
   "cell_type": "markdown",
   "metadata": {},
   "source": [
    "'split()' alone will split the remaining values up by the default separator (if nothing is specified), which is a space, into a list. We still have to coerce that with list() though, otherwise A will just be a map object."
   ]
  },
  {
   "cell_type": "code",
   "execution_count": 42,
   "metadata": {
    "ExecuteTime": {
     "end_time": "2021-03-13T03:20:49.773985Z",
     "start_time": "2021-03-13T03:20:46.399131Z"
    }
   },
   "outputs": [
    {
     "name": "stdout",
     "output_type": "stream",
     "text": [
      "\n",
      "Enter the numbers : 3 4 5 3 2\n"
     ]
    }
   ],
   "source": [
    "a = list(map(int,input(\"\\nEnter the numbers : \").strip().split()))"
   ]
  },
  {
   "cell_type": "code",
   "execution_count": 43,
   "metadata": {
    "ExecuteTime": {
     "end_time": "2021-03-13T03:20:51.879054Z",
     "start_time": "2021-03-13T03:20:51.875219Z"
    }
   },
   "outputs": [
    {
     "data": {
      "text/plain": [
       "[3, 4, 5, 3, 2]"
      ]
     },
     "execution_count": 43,
     "metadata": {},
     "output_type": "execute_result"
    }
   ],
   "source": [
    "a"
   ]
  },
  {
   "cell_type": "markdown",
   "metadata": {},
   "source": [
    "Back to the question."
   ]
  },
  {
   "cell_type": "code",
   "execution_count": 68,
   "metadata": {
    "ExecuteTime": {
     "end_time": "2021-03-13T03:30:37.810840Z",
     "start_time": "2021-03-13T03:30:37.808449Z"
    }
   },
   "outputs": [],
   "source": [
    "#3 8 9 7 6 \n",
    "#3"
   ]
  },
  {
   "cell_type": "code",
   "execution_count": 86,
   "metadata": {
    "ExecuteTime": {
     "end_time": "2021-03-13T03:41:32.771127Z",
     "start_time": "2021-03-13T03:41:16.744776Z"
    }
   },
   "outputs": [
    {
     "name": "stdout",
     "output_type": "stream",
     "text": [
      "\n",
      "Enter the numbers : 3 8 9 7 6\n",
      "3\n"
     ]
    }
   ],
   "source": [
    "A = list(map(int,input(\"\\nEnter the numbers : \").strip().split()))\n",
    "K = int(input())"
   ]
  },
  {
   "cell_type": "code",
   "execution_count": 88,
   "metadata": {
    "ExecuteTime": {
     "end_time": "2021-03-13T03:41:34.445454Z",
     "start_time": "2021-03-13T03:41:34.439483Z"
    }
   },
   "outputs": [
    {
     "data": {
      "text/plain": [
       "[6, 3, 8, 9, 7]"
      ]
     },
     "execution_count": 88,
     "metadata": {},
     "output_type": "execute_result"
    }
   ],
   "source": [
    "def solution(A, K):\n",
    "    for i in range(K):\n",
    "        last = (A.pop(-1))\n",
    "        A.insert(0, last)\n",
    "    return A\n",
    "        \n",
    "solution(A, K)"
   ]
  },
  {
   "cell_type": "markdown",
   "metadata": {},
   "source": [
    "holy shit. I did it!! "
   ]
  },
  {
   "cell_type": "markdown",
   "metadata": {},
   "source": [
    "Oh wait. So I entered my answer and got an 87% on codility because I didn't account for an extreme case. Which is if A is just an empty list. Gonna put my for loop into an if/else statement."
   ]
  },
  {
   "cell_type": "code",
   "execution_count": 87,
   "metadata": {
    "ExecuteTime": {
     "end_time": "2021-03-13T03:41:32.797161Z",
     "start_time": "2021-03-13T03:41:32.788711Z"
    }
   },
   "outputs": [
    {
     "data": {
      "text/plain": [
       "[9, 7, 6, 3, 8]"
      ]
     },
     "execution_count": 87,
     "metadata": {},
     "output_type": "execute_result"
    }
   ],
   "source": [
    "def solution(A, K):\n",
    "    if len(A) == 0:\n",
    "        pass\n",
    "    else:\n",
    "        for i in range(K):\n",
    "            last = (A.pop(-1))\n",
    "            A.insert(0, last)\n",
    "    return A\n",
    "        \n",
    "solution(A, K)"
   ]
  },
  {
   "cell_type": "markdown",
   "metadata": {},
   "source": [
    "And 100%!!!"
   ]
  },
  {
   "cell_type": "markdown",
   "metadata": {},
   "source": [
    "Breaking that down: If the length of A is 0, meaning an empty list, then just skip everything and output that empty list. If there is anything in the list of A, then we iterate through each value in the range of K. For each value in the range of K, I pop the last '(-1)' number off the list and assign that to a variable 'last'. Then I insert that value 'last' into the first, 0, space of the list A. Return list A!"
   ]
  },
  {
   "cell_type": "markdown",
   "metadata": {},
   "source": [
    "Wow codility really hid that assumption there:\n",
    "\n",
    "\"Assume that:\n",
    "\n",
    "N and K are integers within the range [0..100];\n",
    "**each element of array A is an integer within the range [−1,000..1,000].**\""
   ]
  },
  {
   "cell_type": "markdown",
   "metadata": {},
   "source": [
    "# Question 3: https://app.codility.com/programmers/lessons/2-arrays/odd_occurrences_in_array/"
   ]
  },
  {
   "cell_type": "code",
   "execution_count": 53,
   "metadata": {
    "ExecuteTime": {
     "end_time": "2021-03-13T17:48:11.302531Z",
     "start_time": "2021-03-13T17:48:09.741392Z"
    }
   },
   "outputs": [
    {
     "name": "stdout",
     "output_type": "stream",
     "text": [
      "\n",
      "Enter the numbers: 9 3 9 3 9 7 9\n"
     ]
    }
   ],
   "source": [
    "A = list(map(int, input(\"\\nEnter the numbers: \").strip().split()))"
   ]
  },
  {
   "cell_type": "code",
   "execution_count": 27,
   "metadata": {
    "ExecuteTime": {
     "end_time": "2021-03-13T17:17:18.846580Z",
     "start_time": "2021-03-13T17:17:18.842761Z"
    }
   },
   "outputs": [
    {
     "data": {
      "text/plain": [
       "[9, 3, 9, 3, 9, 7, 9]"
      ]
     },
     "execution_count": 27,
     "metadata": {},
     "output_type": "execute_result"
    }
   ],
   "source": [
    "A"
   ]
  },
  {
   "cell_type": "code",
   "execution_count": null,
   "metadata": {},
   "outputs": [],
   "source": [
    "no_dups = [9, 3, 7]"
   ]
  },
  {
   "cell_type": "markdown",
   "metadata": {},
   "source": [
    "I think 'set()' removes duplicates. let's see"
   ]
  },
  {
   "cell_type": "code",
   "execution_count": 28,
   "metadata": {
    "ExecuteTime": {
     "end_time": "2021-03-13T17:17:19.807837Z",
     "start_time": "2021-03-13T17:17:19.802569Z"
    }
   },
   "outputs": [
    {
     "data": {
      "text/plain": [
       "[9, 3, 9]"
      ]
     },
     "execution_count": 28,
     "metadata": {},
     "output_type": "execute_result"
    }
   ],
   "source": [
    "def solution(A):\n",
    "    no_dups = set(A)\n",
    "    for i in A:\n",
    "        if i in no_dups:\n",
    "            A.pop()\n",
    "    return list(A)        \n",
    "        \n",
    "\n",
    "solution(A)"
   ]
  },
  {
   "cell_type": "markdown",
   "metadata": {},
   "source": [
    "We can do a true/false check for the duplicates in the array:"
   ]
  },
  {
   "cell_type": "code",
   "execution_count": 10,
   "metadata": {
    "ExecuteTime": {
     "end_time": "2021-03-13T17:12:29.253664Z",
     "start_time": "2021-03-13T17:12:29.249505Z"
    }
   },
   "outputs": [
    {
     "data": {
      "text/plain": [
       "True"
      ]
     },
     "execution_count": 10,
     "metadata": {},
     "output_type": "execute_result"
    }
   ],
   "source": [
    "a_set = set(A)\n",
    "len(A) != len(a_set)"
   ]
  },
  {
   "cell_type": "markdown",
   "metadata": {},
   "source": [
    "OK set is not gonna for for us"
   ]
  },
  {
   "cell_type": "code",
   "execution_count": 74,
   "metadata": {
    "ExecuteTime": {
     "end_time": "2021-03-14T17:50:09.051362Z",
     "start_time": "2021-03-14T17:50:09.047208Z"
    }
   },
   "outputs": [
    {
     "data": {
      "text/plain": [
       "7"
      ]
     },
     "execution_count": 74,
     "metadata": {},
     "output_type": "execute_result"
    }
   ],
   "source": [
    "def solution(A):\n",
    "    for element in A:\n",
    "        if A.count(element) == 1:\n",
    "            return element\n",
    "    \n",
    "solution(A)"
   ]
  },
  {
   "cell_type": "markdown",
   "metadata": {
    "ExecuteTime": {
     "end_time": "2021-03-13T17:37:32.078316Z",
     "start_time": "2021-03-13T17:37:32.075590Z"
    }
   },
   "source": [
    "50% Success!! because of the time complexity. Some of the test inputs are extremely large to test for this:\n",
    "\n",
    "Detected time complexity:\n",
    "O(N**2)\n",
    "\n",
    "Let's break down the answer: For each element in A, if the count of that element is greater is just 1, return that element.\n",
    "\n",
    "Now let's try to fix the runtime complexity.\n",
    "\n",
    "This is an answer I found which uses a \"bitwise\" operator. New to me! "
   ]
  },
  {
   "cell_type": "code",
   "execution_count": 71,
   "metadata": {
    "ExecuteTime": {
     "end_time": "2021-03-14T17:49:41.986622Z",
     "start_time": "2021-03-14T17:49:41.981502Z"
    }
   },
   "outputs": [
    {
     "data": {
      "text/plain": [
       "7"
      ]
     },
     "execution_count": 71,
     "metadata": {},
     "output_type": "execute_result"
    }
   ],
   "source": [
    "def solution(A):\n",
    "    result = 0\n",
    "    for number in A:\n",
    "        result ^= number\n",
    "    return result\n",
    "\n",
    "    \n",
    "solution(A)\n"
   ]
  },
  {
   "cell_type": "code",
   "execution_count": 92,
   "metadata": {
    "ExecuteTime": {
     "end_time": "2021-03-14T17:53:48.729907Z",
     "start_time": "2021-03-14T17:53:48.725264Z"
    }
   },
   "outputs": [
    {
     "data": {
      "text/plain": [
       "8"
      ]
     },
     "execution_count": 92,
     "metadata": {},
     "output_type": "execute_result"
    }
   ],
   "source": [
    "three = 9\n",
    "three ^= 1\n",
    "\n",
    "three"
   ]
  },
  {
   "cell_type": "markdown",
   "metadata": {},
   "source": [
    "good youtube vid for explaining bitwise operators https://www.youtube.com/watch?v=PyfKCvHALj8"
   ]
  },
  {
   "cell_type": "code",
   "execution_count": 110,
   "metadata": {
    "ExecuteTime": {
     "end_time": "2021-03-14T19:29:43.717511Z",
     "start_time": "2021-03-14T19:29:43.714186Z"
    }
   },
   "outputs": [
    {
     "name": "stdout",
     "output_type": "stream",
     "text": [
      "9\n",
      "7\n"
     ]
    }
   ],
   "source": [
    "print(0 ^ 9)\n",
    "print(0 ^ 7)"
   ]
  },
  {
   "cell_type": "markdown",
   "metadata": {},
   "source": [
    "Ok, think I got it. So bitwise operators work in binary. When we use any bitwise operators (&, |, ^). The computer is converting to or thinking in binary. If there is an odd number of values in an array, the \"^\" will return that number."
   ]
  },
  {
   "cell_type": "markdown",
   "metadata": {},
   "source": [
    "# https://app.codility.com/programmers/lessons/3-time_complexity/frog_jmp/"
   ]
  },
  {
   "cell_type": "code",
   "execution_count": 99,
   "metadata": {
    "ExecuteTime": {
     "end_time": "2021-03-14T18:30:21.997359Z",
     "start_time": "2021-03-14T18:30:18.790686Z"
    }
   },
   "outputs": [
    {
     "name": "stdout",
     "output_type": "stream",
     "text": [
      "10 85 30\n"
     ]
    }
   ],
   "source": [
    "X, Y, D = map(int, input().split())"
   ]
  },
  {
   "cell_type": "markdown",
   "metadata": {},
   "source": [
    "So what we are trying to do here is have the frog start at X, then jump a distance, D, just enough times to equal or pass Y."
   ]
  },
  {
   "cell_type": "code",
   "execution_count": 108,
   "metadata": {
    "ExecuteTime": {
     "end_time": "2021-03-14T19:18:18.449249Z",
     "start_time": "2021-03-14T19:18:18.443341Z"
    }
   },
   "outputs": [
    {
     "data": {
      "text/plain": [
       "3"
      ]
     },
     "execution_count": 108,
     "metadata": {},
     "output_type": "execute_result"
    }
   ],
   "source": [
    "import math\n",
    "\n",
    "def solution(X, Y, D):\n",
    "     return math.ceil(((Y - X)/D))\n",
    "\n",
    "solution(X, Y, D)"
   ]
  },
  {
   "cell_type": "markdown",
   "metadata": {},
   "source": [
    "great success! I hope we are able to import extra libraries like math, although finding another way to round up an integer wouldn't be so hard."
   ]
  },
  {
   "cell_type": "markdown",
   "metadata": {},
   "source": [
    "# : https://app.codility.com/programmers/lessons/3-time_complexity/perm_missing_elem/"
   ]
  },
  {
   "cell_type": "markdown",
   "metadata": {},
   "source": [
    "So we have an array, A, with N different integers in it. The integers in the arrary have a range of (1, (N+1)). Since there are only N integers, that extra one is missing. return that missing element."
   ]
  },
  {
   "cell_type": "code",
   "execution_count": 170,
   "metadata": {
    "ExecuteTime": {
     "end_time": "2021-03-14T20:38:51.294422Z",
     "start_time": "2021-03-14T20:38:49.382291Z"
    }
   },
   "outputs": [
    {
     "name": "stdout",
     "output_type": "stream",
     "text": [
      "1 2 3 4\n"
     ]
    }
   ],
   "source": [
    "A = list(map(int, input().split()))"
   ]
  },
  {
   "cell_type": "code",
   "execution_count": 173,
   "metadata": {
    "ExecuteTime": {
     "end_time": "2021-03-14T20:38:55.869193Z",
     "start_time": "2021-03-14T20:38:55.864256Z"
    }
   },
   "outputs": [
    {
     "data": {
      "text/plain": [
       "5"
      ]
     },
     "execution_count": 173,
     "metadata": {},
     "output_type": "execute_result"
    }
   ],
   "source": [
    "def solution(A):\n",
    "    n = len(A)\n",
    "    total = (n + 1)*(n + 2)/2\n",
    "    return int(total - sum(A))\n",
    "\n",
    "solution(A)"
   ]
  },
  {
   "cell_type": "markdown",
   "metadata": {},
   "source": [
    "breaking this down: so we need to know the len of A, N. "
   ]
  },
  {
   "cell_type": "code",
   "execution_count": 142,
   "metadata": {
    "ExecuteTime": {
     "end_time": "2021-03-14T20:08:16.556264Z",
     "start_time": "2021-03-14T20:08:16.552549Z"
    }
   },
   "outputs": [
    {
     "data": {
      "text/plain": [
       "5"
      ]
     },
     "execution_count": 142,
     "metadata": {},
     "output_type": "execute_result"
    }
   ],
   "source": [
    "n = len(A)\n",
    "n + 1"
   ]
  },
  {
   "cell_type": "code",
   "execution_count": 143,
   "metadata": {
    "ExecuteTime": {
     "end_time": "2021-03-14T20:08:20.341283Z",
     "start_time": "2021-03-14T20:08:20.337584Z"
    }
   },
   "outputs": [
    {
     "data": {
      "text/plain": [
       "6"
      ]
     },
     "execution_count": 143,
     "metadata": {},
     "output_type": "execute_result"
    }
   ],
   "source": [
    "n+2"
   ]
  },
  {
   "cell_type": "code",
   "execution_count": 144,
   "metadata": {
    "ExecuteTime": {
     "end_time": "2021-03-14T20:08:29.156199Z",
     "start_time": "2021-03-14T20:08:29.152752Z"
    }
   },
   "outputs": [
    {
     "data": {
      "text/plain": [
       "15.0"
      ]
     },
     "execution_count": 144,
     "metadata": {},
     "output_type": "execute_result"
    }
   ],
   "source": [
    "5*6/2"
   ]
  },
  {
   "cell_type": "code",
   "execution_count": 145,
   "metadata": {
    "ExecuteTime": {
     "end_time": "2021-03-14T20:08:30.727444Z",
     "start_time": "2021-03-14T20:08:30.723228Z"
    }
   },
   "outputs": [
    {
     "data": {
      "text/plain": [
       "11"
      ]
     },
     "execution_count": 145,
     "metadata": {},
     "output_type": "execute_result"
    }
   ],
   "source": [
    "sum(A)"
   ]
  },
  {
   "cell_type": "markdown",
   "metadata": {},
   "source": [
    "If we multiply 1+len(N) by 2+len(N) and divide by 2, we get the sum of what would be the list without the missing value. If we subtract this by the sum of the actual array A (with missing value), the differene is that missing value."
   ]
  },
  {
   "cell_type": "markdown",
   "metadata": {},
   "source": [
    "# https://app.codility.com/programmers/lessons/3-time_complexity/tape_equilibrium/"
   ]
  },
  {
   "cell_type": "code",
   "execution_count": 174,
   "metadata": {
    "ExecuteTime": {
     "end_time": "2021-03-14T21:05:05.475401Z",
     "start_time": "2021-03-14T21:04:53.736037Z"
    }
   },
   "outputs": [
    {
     "name": "stdout",
     "output_type": "stream",
     "text": [
      "3 1 2 4 3\n"
     ]
    }
   ],
   "source": [
    "A = list(map(int, input().split()))"
   ]
  },
  {
   "cell_type": "markdown",
   "metadata": {},
   "source": [
    "Ok, this one was a little confusing. We have an array A, consisting of N values. P is any value from 1 to N-1. In other words 0 > P > N. P can split the array at A[P] into two separate arrays. We are looking at the minimum difference between the sum of the two split arrays."
   ]
  },
  {
   "cell_type": "code",
   "execution_count": 190,
   "metadata": {
    "ExecuteTime": {
     "end_time": "2021-03-14T21:30:12.897434Z",
     "start_time": "2021-03-14T21:30:12.891396Z"
    }
   },
   "outputs": [
    {
     "data": {
      "text/plain": [
       "1"
      ]
     },
     "execution_count": 190,
     "metadata": {},
     "output_type": "execute_result"
    }
   ],
   "source": [
    "def solution(A):\n",
    "    first_half = 0\n",
    "    second_half = 0\n",
    "    diffs = []\n",
    "    for i in range(0, len(A)-1):\n",
    "        first_half += A[i]\n",
    "        second_half = sum(A) - A[i]\n",
    "        diffs.append(abs(first_half-second_half))\n",
    "    return min(diffs)\n",
    "\n",
    "solution(A)"
   ]
  },
  {
   "cell_type": "markdown",
   "metadata": {},
   "source": [
    "I iterate through each value that P could be. \n",
    "\n",
    "For each, I can add each corresponding value in A to the first half, and the second_half with be the sum of A minus that corresponding P value.\n",
    "\n",
    "Then I append the difference of the halfs for each potential P to diffs and selection the minimum,"
   ]
  },
  {
   "cell_type": "code",
   "execution_count": null,
   "metadata": {},
   "outputs": [],
   "source": []
  }
 ],
 "metadata": {
  "kernelspec": {
   "display_name": "Python 3",
   "language": "python",
   "name": "python3"
  },
  "language_info": {
   "codemirror_mode": {
    "name": "ipython",
    "version": 3
   },
   "file_extension": ".py",
   "mimetype": "text/x-python",
   "name": "python",
   "nbconvert_exporter": "python",
   "pygments_lexer": "ipython3",
   "version": "3.6.9"
  },
  "toc": {
   "base_numbering": 1,
   "nav_menu": {},
   "number_sections": true,
   "sideBar": true,
   "skip_h1_title": false,
   "title_cell": "Table of Contents",
   "title_sidebar": "Contents",
   "toc_cell": false,
   "toc_position": {},
   "toc_section_display": true,
   "toc_window_display": false
  },
  "varInspector": {
   "cols": {
    "lenName": 16,
    "lenType": 16,
    "lenVar": 40
   },
   "kernels_config": {
    "python": {
     "delete_cmd_postfix": "",
     "delete_cmd_prefix": "del ",
     "library": "var_list.py",
     "varRefreshCmd": "print(var_dic_list())"
    },
    "r": {
     "delete_cmd_postfix": ") ",
     "delete_cmd_prefix": "rm(",
     "library": "var_list.r",
     "varRefreshCmd": "cat(var_dic_list()) "
    }
   },
   "types_to_exclude": [
    "module",
    "function",
    "builtin_function_or_method",
    "instance",
    "_Feature"
   ],
   "window_display": false
  }
 },
 "nbformat": 4,
 "nbformat_minor": 2
}
