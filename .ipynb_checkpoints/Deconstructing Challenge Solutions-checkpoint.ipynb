{
 "cells": [
  {
   "cell_type": "markdown",
   "metadata": {},
   "source": [
    "# First challenge: https://app.codility.com/c/run/trainingDUVMCF-8E6/"
   ]
  },
  {
   "cell_type": "code",
   "execution_count": 41,
   "metadata": {
    "ExecuteTime": {
     "end_time": "2021-03-13T02:05:58.047911Z",
     "start_time": "2021-03-13T02:05:56.671885Z"
    }
   },
   "outputs": [
    {
     "name": "stdout",
     "output_type": "stream",
     "text": [
      "304\n"
     ]
    }
   ],
   "source": [
    "N = int(input())"
   ]
  },
  {
   "cell_type": "code",
   "execution_count": 46,
   "metadata": {
    "ExecuteTime": {
     "end_time": "2021-03-13T02:06:28.707931Z",
     "start_time": "2021-03-13T02:06:28.704013Z"
    }
   },
   "outputs": [
    {
     "name": "stdout",
     "output_type": "stream",
     "text": [
      "2\n"
     ]
    }
   ],
   "source": [
    "def solution(N):\n",
    "   print(len(max(bin(N)[2:].strip('0').strip('1').split('1'))))\n",
    "\n",
    "solution(N)"
   ]
  },
  {
   "cell_type": "markdown",
   "metadata": {},
   "source": [
    "**Deconstructing this solution:**"
   ]
  },
  {
   "cell_type": "markdown",
   "metadata": {},
   "source": [
    "When we convert a number to binary in python using 'bin(N)', it always gives us a '0b' in the beginning:"
   ]
  },
  {
   "cell_type": "code",
   "execution_count": 47,
   "metadata": {
    "ExecuteTime": {
     "end_time": "2021-03-13T02:08:23.498606Z",
     "start_time": "2021-03-13T02:08:23.489335Z"
    }
   },
   "outputs": [
    {
     "data": {
      "text/plain": [
       "'0b100110000'"
      ]
     },
     "execution_count": 47,
     "metadata": {},
     "output_type": "execute_result"
    }
   ],
   "source": [
    "bin(304)"
   ]
  },
  {
   "cell_type": "markdown",
   "metadata": {},
   "source": [
    "So we slice after the first two characters with '[2:]':"
   ]
  },
  {
   "cell_type": "code",
   "execution_count": 48,
   "metadata": {
    "ExecuteTime": {
     "end_time": "2021-03-13T02:09:36.238927Z",
     "start_time": "2021-03-13T02:09:36.234971Z"
    }
   },
   "outputs": [
    {
     "data": {
      "text/plain": [
       "'100110000'"
      ]
     },
     "execution_count": 48,
     "metadata": {},
     "output_type": "execute_result"
    }
   ],
   "source": [
    "bin(304)[2:]"
   ]
  },
  {
   "cell_type": "markdown",
   "metadata": {
    "ExecuteTime": {
     "end_time": "2021-03-13T02:10:43.771238Z",
     "start_time": "2021-03-13T02:10:43.766960Z"
    }
   },
   "source": [
    "As we are just trying to count the maximum gap in between the 1s, we use '.strip()'. So .strip('0') strips any outer 0s:"
   ]
  },
  {
   "cell_type": "code",
   "execution_count": 50,
   "metadata": {
    "ExecuteTime": {
     "end_time": "2021-03-13T02:11:07.047358Z",
     "start_time": "2021-03-13T02:11:07.042948Z"
    }
   },
   "outputs": [
    {
     "data": {
      "text/plain": [
       "'10011'"
      ]
     },
     "execution_count": 50,
     "metadata": {},
     "output_type": "execute_result"
    }
   ],
   "source": [
    "bin(304)[2:].strip('0')"
   ]
  },
  {
   "cell_type": "markdown",
   "metadata": {},
   "source": [
    "Getting there! Now we strip the outer 1s with .strip('1'):"
   ]
  },
  {
   "cell_type": "code",
   "execution_count": 51,
   "metadata": {
    "ExecuteTime": {
     "end_time": "2021-03-13T02:12:01.956206Z",
     "start_time": "2021-03-13T02:12:01.952214Z"
    }
   },
   "outputs": [
    {
     "data": {
      "text/plain": [
       "'00'"
      ]
     },
     "execution_count": 51,
     "metadata": {},
     "output_type": "execute_result"
    }
   ],
   "source": [
    "bin(304)[2:].strip('0').strip('1')"
   ]
  },
  {
   "cell_type": "markdown",
   "metadata": {},
   "source": [
    "at this point we could just count the length of the zeros with 'len()', but this disregards some edge cases. What if there was two gaps of zeros? Let's input a different value this time:"
   ]
  },
  {
   "cell_type": "code",
   "execution_count": 52,
   "metadata": {
    "ExecuteTime": {
     "end_time": "2021-03-13T02:13:14.520134Z",
     "start_time": "2021-03-13T02:13:14.515895Z"
    }
   },
   "outputs": [
    {
     "data": {
      "text/plain": [
       "'000001000'"
      ]
     },
     "execution_count": 52,
     "metadata": {},
     "output_type": "execute_result"
    }
   ],
   "source": [
    "bin(1041)[2:].strip('0').strip('1')"
   ]
  },
  {
   "cell_type": "markdown",
   "metadata": {},
   "source": [
    "aha. So we split the remaining values at the 1 with .split('1'):"
   ]
  },
  {
   "cell_type": "code",
   "execution_count": 55,
   "metadata": {
    "ExecuteTime": {
     "end_time": "2021-03-13T02:14:26.879348Z",
     "start_time": "2021-03-13T02:14:26.875325Z"
    }
   },
   "outputs": [
    {
     "data": {
      "text/plain": [
       "['00000', '000']"
      ]
     },
     "execution_count": 55,
     "metadata": {},
     "output_type": "execute_result"
    }
   ],
   "source": [
    "bin(1041)[2:].strip('0').strip('1').split('1')"
   ]
  },
  {
   "cell_type": "markdown",
   "metadata": {
    "ExecuteTime": {
     "end_time": "2021-03-13T02:14:30.118003Z",
     "start_time": "2021-03-13T02:14:30.114439Z"
    }
   },
   "source": [
    "Great. Now we count the greater gap with 'max()':"
   ]
  },
  {
   "cell_type": "code",
   "execution_count": 57,
   "metadata": {
    "ExecuteTime": {
     "end_time": "2021-03-13T02:17:24.103963Z",
     "start_time": "2021-03-13T02:17:24.100130Z"
    }
   },
   "outputs": [
    {
     "data": {
      "text/plain": [
       "'00000'"
      ]
     },
     "execution_count": 57,
     "metadata": {},
     "output_type": "execute_result"
    }
   ],
   "source": [
    "max(bin(1041)[2:].strip('0').strip('1').split('1'))"
   ]
  },
  {
   "cell_type": "markdown",
   "metadata": {},
   "source": [
    "Now we count the length of the maximum gap! (len())"
   ]
  },
  {
   "cell_type": "code",
   "execution_count": 58,
   "metadata": {
    "ExecuteTime": {
     "end_time": "2021-03-13T02:18:38.063526Z",
     "start_time": "2021-03-13T02:18:38.059212Z"
    },
    "scrolled": true
   },
   "outputs": [
    {
     "data": {
      "text/plain": [
       "5"
      ]
     },
     "execution_count": 58,
     "metadata": {},
     "output_type": "execute_result"
    }
   ],
   "source": [
    "len(max(bin(1041)[2:].strip('0').strip('1').split('1')))"
   ]
  },
  {
   "cell_type": "markdown",
   "metadata": {},
   "source": [
    "# Question 2: https://app.codility.com/c/run/training8VJ2XN-9P5/"
   ]
  },
  {
   "cell_type": "markdown",
   "metadata": {},
   "source": [
    "Ok, gonna try to learn something additional right now. I want to figure out how I can input a list along with the K number.\n",
    "\n",
    "*note: I will delete any cells that i use for experimenting and just save the working answers, as the experiment cells won't do me any good in the future.*"
   ]
  },
  {
   "cell_type": "code",
   "execution_count": 39,
   "metadata": {
    "ExecuteTime": {
     "end_time": "2021-03-13T03:17:44.125075Z",
     "start_time": "2021-03-13T03:17:06.277141Z"
    },
    "scrolled": false
   },
   "outputs": [
    {
     "name": "stdout",
     "output_type": "stream",
     "text": [
      "\n",
      "Enter the numbers : 3 8 9 7 6\n",
      "3\n"
     ]
    }
   ],
   "source": [
    "A = list(map(int,input(\"\\nEnter the numbers : \").strip().split()))\n",
    "K = int(input())"
   ]
  },
  {
   "cell_type": "code",
   "execution_count": 41,
   "metadata": {
    "ExecuteTime": {
     "end_time": "2021-03-13T03:20:31.757455Z",
     "start_time": "2021-03-13T03:20:31.753831Z"
    }
   },
   "outputs": [
    {
     "data": {
      "text/plain": [
       "[6, 9, 4, 2, 0]"
      ]
     },
     "execution_count": 41,
     "metadata": {},
     "output_type": "execute_result"
    }
   ],
   "source": [
    "a"
   ]
  },
  {
   "cell_type": "markdown",
   "metadata": {},
   "source": [
    "So I know that 'map(int, input())' will tell(\"map\") each value in the input to be an integer. If we get more than one value, '.strip()' will strip all spaces from the ends of the input. "
   ]
  },
  {
   "cell_type": "code",
   "execution_count": 40,
   "metadata": {
    "ExecuteTime": {
     "end_time": "2021-03-13T03:18:36.112877Z",
     "start_time": "2021-03-13T03:18:30.875563Z"
    }
   },
   "outputs": [
    {
     "name": "stdout",
     "output_type": "stream",
     "text": [
      "\n",
      "Enter the numbers : 3 4 3 2\n"
     ]
    },
    {
     "ename": "ValueError",
     "evalue": "invalid literal for int() with base 10: ' '",
     "output_type": "error",
     "traceback": [
      "\u001b[0;31m---------------------------------------------------------------------------\u001b[0m",
      "\u001b[0;31mValueError\u001b[0m                                Traceback (most recent call last)",
      "\u001b[0;32m<ipython-input-40-b8de931b26cc>\u001b[0m in \u001b[0;36m<module>\u001b[0;34m\u001b[0m\n\u001b[0;32m----> 1\u001b[0;31m \u001b[0mA\u001b[0m \u001b[0;34m=\u001b[0m \u001b[0mlist\u001b[0m\u001b[0;34m(\u001b[0m\u001b[0mmap\u001b[0m\u001b[0;34m(\u001b[0m\u001b[0mint\u001b[0m\u001b[0;34m,\u001b[0m\u001b[0minput\u001b[0m\u001b[0;34m(\u001b[0m\u001b[0;34m\"\\nEnter the numbers : \"\u001b[0m\u001b[0;34m)\u001b[0m\u001b[0;34m.\u001b[0m\u001b[0mstrip\u001b[0m\u001b[0;34m(\u001b[0m\u001b[0;34m)\u001b[0m\u001b[0;34m)\u001b[0m\u001b[0;34m)\u001b[0m\u001b[0;34m\u001b[0m\u001b[0;34m\u001b[0m\u001b[0m\n\u001b[0m",
      "\u001b[0;31mValueError\u001b[0m: invalid literal for int() with base 10: ' '"
     ]
    }
   ],
   "source": [
    "A = list(map(int,input(\"\\nEnter the numbers : \").strip()))"
   ]
  },
  {
   "cell_type": "markdown",
   "metadata": {},
   "source": [
    "'split()' alone will split the remaining values up by the default separator (if nothing is specified), which is a space, into a list. We still have to coerce that with list() though, otherwise A will just be a map object."
   ]
  },
  {
   "cell_type": "code",
   "execution_count": 42,
   "metadata": {
    "ExecuteTime": {
     "end_time": "2021-03-13T03:20:49.773985Z",
     "start_time": "2021-03-13T03:20:46.399131Z"
    }
   },
   "outputs": [
    {
     "name": "stdout",
     "output_type": "stream",
     "text": [
      "\n",
      "Enter the numbers : 3 4 5 3 2\n"
     ]
    }
   ],
   "source": [
    "a = list(map(int,input(\"\\nEnter the numbers : \").strip().split()))"
   ]
  },
  {
   "cell_type": "code",
   "execution_count": 43,
   "metadata": {
    "ExecuteTime": {
     "end_time": "2021-03-13T03:20:51.879054Z",
     "start_time": "2021-03-13T03:20:51.875219Z"
    }
   },
   "outputs": [
    {
     "data": {
      "text/plain": [
       "[3, 4, 5, 3, 2]"
      ]
     },
     "execution_count": 43,
     "metadata": {},
     "output_type": "execute_result"
    }
   ],
   "source": [
    "a"
   ]
  },
  {
   "cell_type": "markdown",
   "metadata": {},
   "source": [
    "Back to the question."
   ]
  },
  {
   "cell_type": "code",
   "execution_count": 68,
   "metadata": {
    "ExecuteTime": {
     "end_time": "2021-03-13T03:30:37.810840Z",
     "start_time": "2021-03-13T03:30:37.808449Z"
    }
   },
   "outputs": [],
   "source": [
    "#3 8 9 7 6 \n",
    "#3"
   ]
  },
  {
   "cell_type": "code",
   "execution_count": 86,
   "metadata": {
    "ExecuteTime": {
     "end_time": "2021-03-13T03:41:32.771127Z",
     "start_time": "2021-03-13T03:41:16.744776Z"
    }
   },
   "outputs": [
    {
     "name": "stdout",
     "output_type": "stream",
     "text": [
      "\n",
      "Enter the numbers : 3 8 9 7 6\n",
      "3\n"
     ]
    }
   ],
   "source": [
    "A = list(map(int,input(\"\\nEnter the numbers : \").strip().split()))\n",
    "K = int(input())"
   ]
  },
  {
   "cell_type": "code",
   "execution_count": 88,
   "metadata": {
    "ExecuteTime": {
     "end_time": "2021-03-13T03:41:34.445454Z",
     "start_time": "2021-03-13T03:41:34.439483Z"
    }
   },
   "outputs": [
    {
     "data": {
      "text/plain": [
       "[6, 3, 8, 9, 7]"
      ]
     },
     "execution_count": 88,
     "metadata": {},
     "output_type": "execute_result"
    }
   ],
   "source": [
    "def solution(A, K):\n",
    "    for i in range(K):\n",
    "        last = (A.pop(-1))\n",
    "        A.insert(0, last)\n",
    "    return A\n",
    "        \n",
    "solution(A, K)"
   ]
  },
  {
   "cell_type": "markdown",
   "metadata": {},
   "source": [
    "holy shit. I did it!! "
   ]
  },
  {
   "cell_type": "markdown",
   "metadata": {},
   "source": [
    "Oh wait. So I entered my answer and got an 87% on codility because I didn't account for an extreme case. Which is if A is just an empty list. Gonna put my for loop into an if/else statement."
   ]
  },
  {
   "cell_type": "code",
   "execution_count": 87,
   "metadata": {
    "ExecuteTime": {
     "end_time": "2021-03-13T03:41:32.797161Z",
     "start_time": "2021-03-13T03:41:32.788711Z"
    }
   },
   "outputs": [
    {
     "data": {
      "text/plain": [
       "[9, 7, 6, 3, 8]"
      ]
     },
     "execution_count": 87,
     "metadata": {},
     "output_type": "execute_result"
    }
   ],
   "source": [
    "def solution(A, K):\n",
    "    if len(A) == 0:\n",
    "        pass\n",
    "    else:\n",
    "        for i in range(K):\n",
    "            last = (A.pop(-1))\n",
    "            A.insert(0, last)\n",
    "    return A\n",
    "        \n",
    "solution(A, K)"
   ]
  },
  {
   "cell_type": "markdown",
   "metadata": {},
   "source": [
    "And 100%!!!"
   ]
  },
  {
   "cell_type": "markdown",
   "metadata": {},
   "source": [
    "Breaking that down: If the length of A is 0, meaning an empty list, then just skip everything and output that empty list. If there is anything in the list of A, then we iterate through each value in the range of K. For each value in the range of K, I pop the last '(-1)' number off the list and assign that to a variable 'last'. Then I insert that value 'last' into the first, 0, space of the list A. Return list A!"
   ]
  },
  {
   "cell_type": "markdown",
   "metadata": {},
   "source": [
    "Wow codility really hid that assumption there:\n",
    "\n",
    "\"Assume that:\n",
    "\n",
    "N and K are integers within the range [0..100];\n",
    "**each element of array A is an integer within the range [−1,000..1,000].**\""
   ]
  }
 ],
 "metadata": {
  "kernelspec": {
   "display_name": "Python 3",
   "language": "python",
   "name": "python3"
  },
  "language_info": {
   "codemirror_mode": {
    "name": "ipython",
    "version": 3
   },
   "file_extension": ".py",
   "mimetype": "text/x-python",
   "name": "python",
   "nbconvert_exporter": "python",
   "pygments_lexer": "ipython3",
   "version": "3.6.9"
  },
  "toc": {
   "base_numbering": 1,
   "nav_menu": {},
   "number_sections": true,
   "sideBar": true,
   "skip_h1_title": false,
   "title_cell": "Table of Contents",
   "title_sidebar": "Contents",
   "toc_cell": false,
   "toc_position": {},
   "toc_section_display": true,
   "toc_window_display": false
  },
  "varInspector": {
   "cols": {
    "lenName": 16,
    "lenType": 16,
    "lenVar": 40
   },
   "kernels_config": {
    "python": {
     "delete_cmd_postfix": "",
     "delete_cmd_prefix": "del ",
     "library": "var_list.py",
     "varRefreshCmd": "print(var_dic_list())"
    },
    "r": {
     "delete_cmd_postfix": ") ",
     "delete_cmd_prefix": "rm(",
     "library": "var_list.r",
     "varRefreshCmd": "cat(var_dic_list()) "
    }
   },
   "types_to_exclude": [
    "module",
    "function",
    "builtin_function_or_method",
    "instance",
    "_Feature"
   ],
   "window_display": false
  }
 },
 "nbformat": 4,
 "nbformat_minor": 2
}
