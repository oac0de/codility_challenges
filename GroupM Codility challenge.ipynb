{
 "cells": [
  {
   "cell_type": "code",
   "execution_count": 1,
   "metadata": {
    "ExecuteTime": {
     "end_time": "2021-03-15T19:43:31.673718Z",
     "start_time": "2021-03-15T19:43:29.809151Z"
    }
   },
   "outputs": [],
   "source": [
    "import numpy as np\n",
    "import pandas as pd\n",
    "from sklearn.linear_model import LinearRegression"
   ]
  },
  {
   "cell_type": "code",
   "execution_count": 85,
   "metadata": {
    "ExecuteTime": {
     "end_time": "2021-03-15T20:32:20.768782Z",
     "start_time": "2021-03-15T20:32:20.762748Z"
    }
   },
   "outputs": [],
   "source": [
    "data = pd.read_csv('realest.csv')"
   ]
  },
  {
   "cell_type": "code",
   "execution_count": 164,
   "metadata": {
    "ExecuteTime": {
     "end_time": "2021-03-15T21:23:46.849851Z",
     "start_time": "2021-03-15T21:23:46.839692Z"
    }
   },
   "outputs": [],
   "source": [
    "class AnalysisDataAndFitLinearRegression:\n",
    "\n",
    "    def __init__(self):\n",
    "        self.version = 1\n",
    "\n",
    "    def analyse_and_fit_lrm(self, path):\n",
    "        # a path to a dataset is \"./data/realest.csv\"\n",
    "        # dataset can be loaded by uncommenting the line bellow\n",
    "        data = pd.read_csv(path)\n",
    "        summary_dict = {'statistics': data.Tax.describe()[['mean', 'std', '50%', 'min', 'max']],\n",
    "                        'dataframe': data[data['Space'] < 800].sort_values('Price', ascending=False).dropna(),\n",
    "                        'number_of_observations': len(data[data['Lot'] >= np.percentile(data.Lot.dropna(), 80)])\n",
    "                        }\n",
    "        \n",
    "        clean_data = data.dropna()\n",
    "        y = clean_data.Price\n",
    "        X = clean_data.drop(['Price'], axis=1)\n",
    "        linreg = LinearRegression()\n",
    "        linreg.fit(X, y)\n",
    "        \n",
    "        model_parameters = {'Intercept': linreg.intercept_,\n",
    "                            'Bedroom': linreg.coef_[0],\n",
    "                            'Space': linreg.coef_[1],\n",
    "                            'Room': linreg.coef_[2],\n",
    "                            'Lot': linreg.coef_[3], \n",
    "                            'Tax': linreg.coef_[4],\n",
    "                            'Bathroom': linreg.coef_[5],\n",
    "                            'Garage': linreg.coef_[6],\n",
    "                            'Condition': linreg.coef_[7],\n",
    "         }\n",
    "        \n",
    "        pred_data = pd.DataFrame([{'Bedroom': 3, 'Space': 1500, 'Room':8, 'Lot':40, 'Tax':1000, 'Bathroom': 2,  'Garage': 1, 'Condition': 0 }])\n",
    "        price_prediction = linreg.predict(pred_data)[0]\n",
    "        regression_dict = {\"model_parameters\": model_parameters, \n",
    "                           \"price_prediction\": price_prediction}\n",
    "\n",
    "        return {'summary_dict': summary_dict, \n",
    "            'regression_dict': regression_dict\n",
    "        }\n",
    "\n",
    "    def __listwise_deletion(self, data: pd.DataFrame):\n",
    "        data = pd.read_csv(path)\n",
    "        return data.dropna()\n",
    "    \n"
   ]
  },
  {
   "cell_type": "code",
   "execution_count": 167,
   "metadata": {
    "ExecuteTime": {
     "end_time": "2021-03-15T21:40:35.307030Z",
     "start_time": "2021-03-15T21:40:35.274286Z"
    },
    "scrolled": true
   },
   "outputs": [
    {
     "data": {
      "text/plain": [
       "{'summary_dict': {'statistics': mean     911.707483\n",
       "  std      443.263430\n",
       "  50%      821.000000\n",
       "  min      418.000000\n",
       "  max     2752.000000\n",
       "  Name: Tax, dtype: float64,\n",
       "  'dataframe':      Price  Bedroom  Space  Room   Lot     Tax  Bathroom  Garage  Condition\n",
       "  119   63.0      1.0  722.0   5.0  25.0   836.0       1.0     0.0        0.0\n",
       "  41    61.0      1.0  785.0   5.0  25.0   817.0       1.0     0.0        0.0\n",
       "  67    61.0      3.0  715.0   5.0  25.0   815.0       1.0     0.0        0.0\n",
       "  105   61.0      1.0  729.0   5.0  33.0  1054.0       1.0     2.0        1.0\n",
       "  15    60.0      2.0  782.0   5.0  25.0   834.0       1.0     0.0        0.0\n",
       "  145   59.0      3.0  710.0   5.0  25.0   848.0       1.0     0.0        0.0\n",
       "  27    58.0      1.0  799.0   5.0  33.0  1025.0       1.0     2.0        1.0\n",
       "  50    53.0      2.0  636.0   6.0  30.0   553.0       1.0     2.0        1.0\n",
       "  76    53.0      3.0  673.0   6.0  30.0   589.0       1.0     2.0        1.0\n",
       "  154   53.0      3.0  716.0   6.0  30.0   585.0       1.0     2.0        1.0\n",
       "  102   51.0      2.0  714.0   6.0  30.0   536.0       1.0     2.0        1.0\n",
       "  24    50.0      2.0  691.0   6.0  30.0   549.0       1.0     2.0        1.0\n",
       "  126   49.0      3.0  758.0   5.0  27.0   766.0       1.0     0.0        1.0\n",
       "  48    48.0      3.0  758.0   5.0  27.0   743.0       1.0     0.0        1.0\n",
       "  101   47.0      2.0  766.0   4.0  30.0   418.0       2.0     1.0        0.0\n",
       "  89    47.0      2.0  676.0   5.0  25.0   880.0       1.0     0.0        0.0\n",
       "  23    46.0      2.0  696.0   4.0  30.0   440.0       2.0     1.0        0.0\n",
       "  99    46.0      3.0  643.0   5.0  50.0   756.0       1.0     0.0        0.0\n",
       "  11    45.0      2.0  641.0   5.0  25.0   860.0       1.0     0.0        0.0\n",
       "  63    45.0      3.0  581.0   5.0  25.0   821.0       1.0     0.0        0.0\n",
       "  37    45.0      3.0  583.0   5.0  25.0   888.0       1.0     0.0        0.0\n",
       "  115   44.0      3.0  590.0   5.0  25.0   874.0       1.0     0.0        0.0\n",
       "  153   43.0      2.0  593.0   4.0  30.0   465.0       2.0     1.0        0.0\n",
       "  47    42.0      2.0  539.0   5.0  50.0   721.0       1.0     0.0        0.0\n",
       "  141   42.0      3.0  584.0   5.0  25.0   812.0       1.0     0.0        0.0\n",
       "  151   42.0      3.0  585.0   5.0  50.0   713.0       1.0     0.0        0.0\n",
       "  72    39.0      2.0  701.0   6.0  25.0   500.0       1.0     0.0        0.0\n",
       "  124   39.0      4.0  744.0   6.0  25.0   531.0       1.0     0.0        0.0\n",
       "  125   39.0      2.0  563.0   5.0  50.0   755.0       1.0     0.0        0.0\n",
       "  20    38.0      3.0  743.0   6.0  25.0   489.0       1.0     0.0        0.0\n",
       "  98    36.0      3.0  777.0   6.0  25.0   449.0       1.0     0.0        0.0,\n",
       "  'number_of_observations': 33},\n",
       " 'regression_dict': {'model_parameters': {'Intercept': 19.993467728068104,\n",
       "   'Bedroom': -3.1602387359607067,\n",
       "   'Space': 0.00966322779633439,\n",
       "   'Room': 1.6889511073197694,\n",
       "   'Lot': 0.23621323117136808,\n",
       "   'Tax': 0.004412718519150623,\n",
       "   'Bathroom': 6.375785992212336,\n",
       "   'Garage': 4.144757426848795,\n",
       "   'Condition': 1.8357953743202877},\n",
       "  'price_prediction': 69.27677925052453}}"
      ]
     },
     "execution_count": 167,
     "metadata": {},
     "output_type": "execute_result"
    }
   ],
   "source": [
    "model = AnalysisDataAndFitLinearRegression()\n",
    "\n",
    "model.analyse_and_fit_lrm('realest.csv')"
   ]
  },
  {
   "cell_type": "code",
   "execution_count": 137,
   "metadata": {
    "ExecuteTime": {
     "end_time": "2021-03-15T20:55:08.018915Z",
     "start_time": "2021-03-15T20:55:08.008030Z"
    },
    "scrolled": true
   },
   "outputs": [
    {
     "data": {
      "text/plain": [
       "array([-3.16023874e+00,  9.66322780e-03,  1.68895111e+00,  2.36213231e-01,\n",
       "        4.41271852e-03,  6.37578599e+00,  4.14475743e+00,  1.83579537e+00])"
      ]
     },
     "execution_count": 137,
     "metadata": {},
     "output_type": "execute_result"
    }
   ],
   "source": [
    "clean_data = data.dropna()\n",
    "y = clean_data.Price\n",
    "X = clean_data.drop(['Price'], axis=1)\n",
    "linreg = LinearRegression()\n",
    "linreg.fit(X, y)\n",
    "linreg.intercept_\n",
    "linreg.coef_"
   ]
  },
  {
   "cell_type": "code",
   "execution_count": 143,
   "metadata": {
    "ExecuteTime": {
     "end_time": "2021-03-15T21:00:41.121991Z",
     "start_time": "2021-03-15T21:00:41.117076Z"
    }
   },
   "outputs": [
    {
     "data": {
      "text/plain": [
       "Index(['Bedroom', 'Space', 'Room', 'Lot', 'Tax', 'Bathroom', 'Garage',\n",
       "       'Condition'],\n",
       "      dtype='object')"
      ]
     },
     "execution_count": 143,
     "metadata": {},
     "output_type": "execute_result"
    }
   ],
   "source": [
    "X.columns"
   ]
  },
  {
   "cell_type": "code",
   "execution_count": 148,
   "metadata": {
    "ExecuteTime": {
     "end_time": "2021-03-15T21:03:13.892678Z",
     "start_time": "2021-03-15T21:03:13.886195Z"
    }
   },
   "outputs": [
    {
     "data": {
      "text/plain": [
       "{'Intercept': 19.993467728068104,\n",
       " 'Bedroom': -3.1602387359607067,\n",
       " 'Space': 0.00966322779633439,\n",
       " 'Room': 1.6889511073197694,\n",
       " 'Lot': 0.23621323117136808,\n",
       " 'Tax': 0.004412718519150623,\n",
       " 'Bathroom': 6.375785992212336,\n",
       " 'Garage': 4.144757426848795,\n",
       " 'Condition': 1.8357953743202877}"
      ]
     },
     "execution_count": 148,
     "metadata": {},
     "output_type": "execute_result"
    }
   ],
   "source": [
    "params = {'Intercept': linreg.intercept_,\n",
    "          'Bedroom': linreg.coef_[0],\n",
    "          'Space': linreg.coef_[1],\n",
    "          'Room': linreg.coef_[2],\n",
    "          'Lot': linreg.coef_[3], \n",
    "          'Tax': linreg.coef_[4],\n",
    "          'Bathroom': linreg.coef_[5],\n",
    "          'Garage': linreg.coef_[6],\n",
    "          'Condition': linreg.coef_[7],\n",
    "         }\n",
    "\n",
    "params"
   ]
  },
  {
   "cell_type": "code",
   "execution_count": 152,
   "metadata": {
    "ExecuteTime": {
     "end_time": "2021-03-15T21:12:57.323885Z",
     "start_time": "2021-03-15T21:12:57.318475Z"
    }
   },
   "outputs": [],
   "source": [
    "pred_data = pd.DataFrame([{'Bedroom': 3, 'Space': 1500, 'Room':8, 'Lot':40, 'Tax':1000, 'Bathroom': 2,  'Garage': 1, 'Condition': 0 }])"
   ]
  },
  {
   "cell_type": "code",
   "execution_count": 153,
   "metadata": {
    "ExecuteTime": {
     "end_time": "2021-03-15T21:13:01.576192Z",
     "start_time": "2021-03-15T21:13:01.566945Z"
    },
    "scrolled": true
   },
   "outputs": [
    {
     "data": {
      "text/html": [
       "<div>\n",
       "<style scoped>\n",
       "    .dataframe tbody tr th:only-of-type {\n",
       "        vertical-align: middle;\n",
       "    }\n",
       "\n",
       "    .dataframe tbody tr th {\n",
       "        vertical-align: top;\n",
       "    }\n",
       "\n",
       "    .dataframe thead th {\n",
       "        text-align: right;\n",
       "    }\n",
       "</style>\n",
       "<table border=\"1\" class=\"dataframe\">\n",
       "  <thead>\n",
       "    <tr style=\"text-align: right;\">\n",
       "      <th></th>\n",
       "      <th>Bedroom</th>\n",
       "      <th>Space</th>\n",
       "      <th>Room</th>\n",
       "      <th>Lot</th>\n",
       "      <th>Tax</th>\n",
       "      <th>Bathroom</th>\n",
       "      <th>Garage</th>\n",
       "      <th>Condition</th>\n",
       "    </tr>\n",
       "  </thead>\n",
       "  <tbody>\n",
       "    <tr>\n",
       "      <td>0</td>\n",
       "      <td>3</td>\n",
       "      <td>1500</td>\n",
       "      <td>8</td>\n",
       "      <td>40</td>\n",
       "      <td>1000</td>\n",
       "      <td>2</td>\n",
       "      <td>1</td>\n",
       "      <td>0</td>\n",
       "    </tr>\n",
       "  </tbody>\n",
       "</table>\n",
       "</div>"
      ],
      "text/plain": [
       "   Bedroom  Space  Room  Lot   Tax  Bathroom  Garage  Condition\n",
       "0        3   1500     8   40  1000         2       1          0"
      ]
     },
     "execution_count": 153,
     "metadata": {},
     "output_type": "execute_result"
    }
   ],
   "source": [
    "pred_data"
   ]
  },
  {
   "cell_type": "code",
   "execution_count": 157,
   "metadata": {
    "ExecuteTime": {
     "end_time": "2021-03-15T21:14:52.139302Z",
     "start_time": "2021-03-15T21:14:52.133032Z"
    }
   },
   "outputs": [
    {
     "data": {
      "text/plain": [
       "69.27677925052453"
      ]
     },
     "execution_count": 157,
     "metadata": {},
     "output_type": "execute_result"
    }
   ],
   "source": [
    "linreg.predict(pred_data)[0]"
   ]
  },
  {
   "cell_type": "code",
   "execution_count": 60,
   "metadata": {
    "ExecuteTime": {
     "end_time": "2021-03-15T20:18:53.807052Z",
     "start_time": "2021-03-15T20:18:53.800138Z"
    }
   },
   "outputs": [],
   "source": [
    "number = path.Lot.describe(percentiles=[.60])[['60%']]"
   ]
  },
  {
   "cell_type": "code",
   "execution_count": 72,
   "metadata": {
    "ExecuteTime": {
     "end_time": "2021-03-15T20:21:31.355511Z",
     "start_time": "2021-03-15T20:21:31.348591Z"
    }
   },
   "outputs": [
    {
     "data": {
      "text/plain": [
       "0      39.0\n",
       "1      33.0\n",
       "2      35.0\n",
       "3      24.0\n",
       "4      50.0\n",
       "       ... \n",
       "151    50.0\n",
       "152    27.0\n",
       "153    30.0\n",
       "154    30.0\n",
       "155    30.0\n",
       "Name: Lot, Length: 146, dtype: float64"
      ]
     },
     "execution_count": 72,
     "metadata": {},
     "output_type": "execute_result"
    }
   ],
   "source": [
    "path.Lot.dropna()"
   ]
  },
  {
   "cell_type": "code",
   "execution_count": 151,
   "metadata": {
    "ExecuteTime": {
     "end_time": "2021-03-15T21:12:48.201651Z",
     "start_time": "2021-03-15T21:12:48.194998Z"
    }
   },
   "outputs": [],
   "source": [
    "pred_data = pd.DataFrame([{'Bedroom': 3, 'Space': 1500, 'Room':8, 'Lot':40, 'Tax':1000, 'Bathroom': 2,  'Garage': 1, 'Condition': 0 }])"
   ]
  },
  {
   "cell_type": "code",
   "execution_count": 75,
   "metadata": {
    "ExecuteTime": {
     "end_time": "2021-03-15T20:22:15.012794Z",
     "start_time": "2021-03-15T20:22:15.005756Z"
    }
   },
   "outputs": [
    {
     "data": {
      "text/plain": [
       "92"
      ]
     },
     "execution_count": 75,
     "metadata": {},
     "output_type": "execute_result"
    }
   ],
   "source": [
    "#number_of_observations\n",
    "len(path[path['Lot'] >= np.percentile(path.Lot.dropna(), 60)])"
   ]
  },
  {
   "cell_type": "code",
   "execution_count": 99,
   "metadata": {
    "ExecuteTime": {
     "end_time": "2021-03-15T20:37:43.839247Z",
     "start_time": "2021-03-15T20:37:43.812571Z"
    }
   },
   "outputs": [
    {
     "data": {
      "text/html": [
       "<div>\n",
       "<style scoped>\n",
       "    .dataframe tbody tr th:only-of-type {\n",
       "        vertical-align: middle;\n",
       "    }\n",
       "\n",
       "    .dataframe tbody tr th {\n",
       "        vertical-align: top;\n",
       "    }\n",
       "\n",
       "    .dataframe thead th {\n",
       "        text-align: right;\n",
       "    }\n",
       "</style>\n",
       "<table border=\"1\" class=\"dataframe\">\n",
       "  <thead>\n",
       "    <tr style=\"text-align: right;\">\n",
       "      <th></th>\n",
       "      <th>Price</th>\n",
       "      <th>Bedroom</th>\n",
       "      <th>Space</th>\n",
       "      <th>Room</th>\n",
       "      <th>Lot</th>\n",
       "      <th>Tax</th>\n",
       "      <th>Bathroom</th>\n",
       "      <th>Garage</th>\n",
       "      <th>Condition</th>\n",
       "    </tr>\n",
       "  </thead>\n",
       "  <tbody>\n",
       "    <tr>\n",
       "      <td>119</td>\n",
       "      <td>63.0</td>\n",
       "      <td>1.0</td>\n",
       "      <td>722.0</td>\n",
       "      <td>5.0</td>\n",
       "      <td>25.0</td>\n",
       "      <td>836.0</td>\n",
       "      <td>1.0</td>\n",
       "      <td>0.0</td>\n",
       "      <td>0.0</td>\n",
       "    </tr>\n",
       "    <tr>\n",
       "      <td>41</td>\n",
       "      <td>61.0</td>\n",
       "      <td>1.0</td>\n",
       "      <td>785.0</td>\n",
       "      <td>5.0</td>\n",
       "      <td>25.0</td>\n",
       "      <td>817.0</td>\n",
       "      <td>1.0</td>\n",
       "      <td>0.0</td>\n",
       "      <td>0.0</td>\n",
       "    </tr>\n",
       "    <tr>\n",
       "      <td>67</td>\n",
       "      <td>61.0</td>\n",
       "      <td>3.0</td>\n",
       "      <td>715.0</td>\n",
       "      <td>5.0</td>\n",
       "      <td>25.0</td>\n",
       "      <td>815.0</td>\n",
       "      <td>1.0</td>\n",
       "      <td>0.0</td>\n",
       "      <td>0.0</td>\n",
       "    </tr>\n",
       "    <tr>\n",
       "      <td>105</td>\n",
       "      <td>61.0</td>\n",
       "      <td>1.0</td>\n",
       "      <td>729.0</td>\n",
       "      <td>5.0</td>\n",
       "      <td>33.0</td>\n",
       "      <td>1054.0</td>\n",
       "      <td>1.0</td>\n",
       "      <td>2.0</td>\n",
       "      <td>1.0</td>\n",
       "    </tr>\n",
       "    <tr>\n",
       "      <td>15</td>\n",
       "      <td>60.0</td>\n",
       "      <td>2.0</td>\n",
       "      <td>782.0</td>\n",
       "      <td>5.0</td>\n",
       "      <td>25.0</td>\n",
       "      <td>834.0</td>\n",
       "      <td>1.0</td>\n",
       "      <td>0.0</td>\n",
       "      <td>0.0</td>\n",
       "    </tr>\n",
       "    <tr>\n",
       "      <td>145</td>\n",
       "      <td>59.0</td>\n",
       "      <td>3.0</td>\n",
       "      <td>710.0</td>\n",
       "      <td>5.0</td>\n",
       "      <td>25.0</td>\n",
       "      <td>848.0</td>\n",
       "      <td>1.0</td>\n",
       "      <td>0.0</td>\n",
       "      <td>0.0</td>\n",
       "    </tr>\n",
       "    <tr>\n",
       "      <td>27</td>\n",
       "      <td>58.0</td>\n",
       "      <td>1.0</td>\n",
       "      <td>799.0</td>\n",
       "      <td>5.0</td>\n",
       "      <td>33.0</td>\n",
       "      <td>1025.0</td>\n",
       "      <td>1.0</td>\n",
       "      <td>2.0</td>\n",
       "      <td>1.0</td>\n",
       "    </tr>\n",
       "    <tr>\n",
       "      <td>50</td>\n",
       "      <td>53.0</td>\n",
       "      <td>2.0</td>\n",
       "      <td>636.0</td>\n",
       "      <td>6.0</td>\n",
       "      <td>30.0</td>\n",
       "      <td>553.0</td>\n",
       "      <td>1.0</td>\n",
       "      <td>2.0</td>\n",
       "      <td>1.0</td>\n",
       "    </tr>\n",
       "    <tr>\n",
       "      <td>76</td>\n",
       "      <td>53.0</td>\n",
       "      <td>3.0</td>\n",
       "      <td>673.0</td>\n",
       "      <td>6.0</td>\n",
       "      <td>30.0</td>\n",
       "      <td>589.0</td>\n",
       "      <td>1.0</td>\n",
       "      <td>2.0</td>\n",
       "      <td>1.0</td>\n",
       "    </tr>\n",
       "    <tr>\n",
       "      <td>154</td>\n",
       "      <td>53.0</td>\n",
       "      <td>3.0</td>\n",
       "      <td>716.0</td>\n",
       "      <td>6.0</td>\n",
       "      <td>30.0</td>\n",
       "      <td>585.0</td>\n",
       "      <td>1.0</td>\n",
       "      <td>2.0</td>\n",
       "      <td>1.0</td>\n",
       "    </tr>\n",
       "    <tr>\n",
       "      <td>102</td>\n",
       "      <td>51.0</td>\n",
       "      <td>2.0</td>\n",
       "      <td>714.0</td>\n",
       "      <td>6.0</td>\n",
       "      <td>30.0</td>\n",
       "      <td>536.0</td>\n",
       "      <td>1.0</td>\n",
       "      <td>2.0</td>\n",
       "      <td>1.0</td>\n",
       "    </tr>\n",
       "    <tr>\n",
       "      <td>24</td>\n",
       "      <td>50.0</td>\n",
       "      <td>2.0</td>\n",
       "      <td>691.0</td>\n",
       "      <td>6.0</td>\n",
       "      <td>30.0</td>\n",
       "      <td>549.0</td>\n",
       "      <td>1.0</td>\n",
       "      <td>2.0</td>\n",
       "      <td>1.0</td>\n",
       "    </tr>\n",
       "    <tr>\n",
       "      <td>126</td>\n",
       "      <td>49.0</td>\n",
       "      <td>3.0</td>\n",
       "      <td>758.0</td>\n",
       "      <td>5.0</td>\n",
       "      <td>27.0</td>\n",
       "      <td>766.0</td>\n",
       "      <td>1.0</td>\n",
       "      <td>0.0</td>\n",
       "      <td>1.0</td>\n",
       "    </tr>\n",
       "    <tr>\n",
       "      <td>48</td>\n",
       "      <td>48.0</td>\n",
       "      <td>3.0</td>\n",
       "      <td>758.0</td>\n",
       "      <td>5.0</td>\n",
       "      <td>27.0</td>\n",
       "      <td>743.0</td>\n",
       "      <td>1.0</td>\n",
       "      <td>0.0</td>\n",
       "      <td>1.0</td>\n",
       "    </tr>\n",
       "    <tr>\n",
       "      <td>101</td>\n",
       "      <td>47.0</td>\n",
       "      <td>2.0</td>\n",
       "      <td>766.0</td>\n",
       "      <td>4.0</td>\n",
       "      <td>30.0</td>\n",
       "      <td>418.0</td>\n",
       "      <td>2.0</td>\n",
       "      <td>1.0</td>\n",
       "      <td>0.0</td>\n",
       "    </tr>\n",
       "    <tr>\n",
       "      <td>89</td>\n",
       "      <td>47.0</td>\n",
       "      <td>2.0</td>\n",
       "      <td>676.0</td>\n",
       "      <td>5.0</td>\n",
       "      <td>25.0</td>\n",
       "      <td>880.0</td>\n",
       "      <td>1.0</td>\n",
       "      <td>0.0</td>\n",
       "      <td>0.0</td>\n",
       "    </tr>\n",
       "    <tr>\n",
       "      <td>23</td>\n",
       "      <td>46.0</td>\n",
       "      <td>2.0</td>\n",
       "      <td>696.0</td>\n",
       "      <td>4.0</td>\n",
       "      <td>30.0</td>\n",
       "      <td>440.0</td>\n",
       "      <td>2.0</td>\n",
       "      <td>1.0</td>\n",
       "      <td>0.0</td>\n",
       "    </tr>\n",
       "    <tr>\n",
       "      <td>99</td>\n",
       "      <td>46.0</td>\n",
       "      <td>3.0</td>\n",
       "      <td>643.0</td>\n",
       "      <td>5.0</td>\n",
       "      <td>50.0</td>\n",
       "      <td>756.0</td>\n",
       "      <td>1.0</td>\n",
       "      <td>0.0</td>\n",
       "      <td>0.0</td>\n",
       "    </tr>\n",
       "    <tr>\n",
       "      <td>11</td>\n",
       "      <td>45.0</td>\n",
       "      <td>2.0</td>\n",
       "      <td>641.0</td>\n",
       "      <td>5.0</td>\n",
       "      <td>25.0</td>\n",
       "      <td>860.0</td>\n",
       "      <td>1.0</td>\n",
       "      <td>0.0</td>\n",
       "      <td>0.0</td>\n",
       "    </tr>\n",
       "    <tr>\n",
       "      <td>63</td>\n",
       "      <td>45.0</td>\n",
       "      <td>3.0</td>\n",
       "      <td>581.0</td>\n",
       "      <td>5.0</td>\n",
       "      <td>25.0</td>\n",
       "      <td>821.0</td>\n",
       "      <td>1.0</td>\n",
       "      <td>0.0</td>\n",
       "      <td>0.0</td>\n",
       "    </tr>\n",
       "    <tr>\n",
       "      <td>37</td>\n",
       "      <td>45.0</td>\n",
       "      <td>3.0</td>\n",
       "      <td>583.0</td>\n",
       "      <td>5.0</td>\n",
       "      <td>25.0</td>\n",
       "      <td>888.0</td>\n",
       "      <td>1.0</td>\n",
       "      <td>0.0</td>\n",
       "      <td>0.0</td>\n",
       "    </tr>\n",
       "    <tr>\n",
       "      <td>115</td>\n",
       "      <td>44.0</td>\n",
       "      <td>3.0</td>\n",
       "      <td>590.0</td>\n",
       "      <td>5.0</td>\n",
       "      <td>25.0</td>\n",
       "      <td>874.0</td>\n",
       "      <td>1.0</td>\n",
       "      <td>0.0</td>\n",
       "      <td>0.0</td>\n",
       "    </tr>\n",
       "    <tr>\n",
       "      <td>153</td>\n",
       "      <td>43.0</td>\n",
       "      <td>2.0</td>\n",
       "      <td>593.0</td>\n",
       "      <td>4.0</td>\n",
       "      <td>30.0</td>\n",
       "      <td>465.0</td>\n",
       "      <td>2.0</td>\n",
       "      <td>1.0</td>\n",
       "      <td>0.0</td>\n",
       "    </tr>\n",
       "    <tr>\n",
       "      <td>47</td>\n",
       "      <td>42.0</td>\n",
       "      <td>2.0</td>\n",
       "      <td>539.0</td>\n",
       "      <td>5.0</td>\n",
       "      <td>50.0</td>\n",
       "      <td>721.0</td>\n",
       "      <td>1.0</td>\n",
       "      <td>0.0</td>\n",
       "      <td>0.0</td>\n",
       "    </tr>\n",
       "    <tr>\n",
       "      <td>141</td>\n",
       "      <td>42.0</td>\n",
       "      <td>3.0</td>\n",
       "      <td>584.0</td>\n",
       "      <td>5.0</td>\n",
       "      <td>25.0</td>\n",
       "      <td>812.0</td>\n",
       "      <td>1.0</td>\n",
       "      <td>0.0</td>\n",
       "      <td>0.0</td>\n",
       "    </tr>\n",
       "    <tr>\n",
       "      <td>151</td>\n",
       "      <td>42.0</td>\n",
       "      <td>3.0</td>\n",
       "      <td>585.0</td>\n",
       "      <td>5.0</td>\n",
       "      <td>50.0</td>\n",
       "      <td>713.0</td>\n",
       "      <td>1.0</td>\n",
       "      <td>0.0</td>\n",
       "      <td>0.0</td>\n",
       "    </tr>\n",
       "    <tr>\n",
       "      <td>72</td>\n",
       "      <td>39.0</td>\n",
       "      <td>2.0</td>\n",
       "      <td>701.0</td>\n",
       "      <td>6.0</td>\n",
       "      <td>25.0</td>\n",
       "      <td>500.0</td>\n",
       "      <td>1.0</td>\n",
       "      <td>0.0</td>\n",
       "      <td>0.0</td>\n",
       "    </tr>\n",
       "    <tr>\n",
       "      <td>124</td>\n",
       "      <td>39.0</td>\n",
       "      <td>4.0</td>\n",
       "      <td>744.0</td>\n",
       "      <td>6.0</td>\n",
       "      <td>25.0</td>\n",
       "      <td>531.0</td>\n",
       "      <td>1.0</td>\n",
       "      <td>0.0</td>\n",
       "      <td>0.0</td>\n",
       "    </tr>\n",
       "    <tr>\n",
       "      <td>125</td>\n",
       "      <td>39.0</td>\n",
       "      <td>2.0</td>\n",
       "      <td>563.0</td>\n",
       "      <td>5.0</td>\n",
       "      <td>50.0</td>\n",
       "      <td>755.0</td>\n",
       "      <td>1.0</td>\n",
       "      <td>0.0</td>\n",
       "      <td>0.0</td>\n",
       "    </tr>\n",
       "    <tr>\n",
       "      <td>20</td>\n",
       "      <td>38.0</td>\n",
       "      <td>3.0</td>\n",
       "      <td>743.0</td>\n",
       "      <td>6.0</td>\n",
       "      <td>25.0</td>\n",
       "      <td>489.0</td>\n",
       "      <td>1.0</td>\n",
       "      <td>0.0</td>\n",
       "      <td>0.0</td>\n",
       "    </tr>\n",
       "    <tr>\n",
       "      <td>98</td>\n",
       "      <td>36.0</td>\n",
       "      <td>3.0</td>\n",
       "      <td>777.0</td>\n",
       "      <td>6.0</td>\n",
       "      <td>25.0</td>\n",
       "      <td>449.0</td>\n",
       "      <td>1.0</td>\n",
       "      <td>0.0</td>\n",
       "      <td>0.0</td>\n",
       "    </tr>\n",
       "  </tbody>\n",
       "</table>\n",
       "</div>"
      ],
      "text/plain": [
       "     Price  Bedroom  Space  Room   Lot     Tax  Bathroom  Garage  Condition\n",
       "119   63.0      1.0  722.0   5.0  25.0   836.0       1.0     0.0        0.0\n",
       "41    61.0      1.0  785.0   5.0  25.0   817.0       1.0     0.0        0.0\n",
       "67    61.0      3.0  715.0   5.0  25.0   815.0       1.0     0.0        0.0\n",
       "105   61.0      1.0  729.0   5.0  33.0  1054.0       1.0     2.0        1.0\n",
       "15    60.0      2.0  782.0   5.0  25.0   834.0       1.0     0.0        0.0\n",
       "145   59.0      3.0  710.0   5.0  25.0   848.0       1.0     0.0        0.0\n",
       "27    58.0      1.0  799.0   5.0  33.0  1025.0       1.0     2.0        1.0\n",
       "50    53.0      2.0  636.0   6.0  30.0   553.0       1.0     2.0        1.0\n",
       "76    53.0      3.0  673.0   6.0  30.0   589.0       1.0     2.0        1.0\n",
       "154   53.0      3.0  716.0   6.0  30.0   585.0       1.0     2.0        1.0\n",
       "102   51.0      2.0  714.0   6.0  30.0   536.0       1.0     2.0        1.0\n",
       "24    50.0      2.0  691.0   6.0  30.0   549.0       1.0     2.0        1.0\n",
       "126   49.0      3.0  758.0   5.0  27.0   766.0       1.0     0.0        1.0\n",
       "48    48.0      3.0  758.0   5.0  27.0   743.0       1.0     0.0        1.0\n",
       "101   47.0      2.0  766.0   4.0  30.0   418.0       2.0     1.0        0.0\n",
       "89    47.0      2.0  676.0   5.0  25.0   880.0       1.0     0.0        0.0\n",
       "23    46.0      2.0  696.0   4.0  30.0   440.0       2.0     1.0        0.0\n",
       "99    46.0      3.0  643.0   5.0  50.0   756.0       1.0     0.0        0.0\n",
       "11    45.0      2.0  641.0   5.0  25.0   860.0       1.0     0.0        0.0\n",
       "63    45.0      3.0  581.0   5.0  25.0   821.0       1.0     0.0        0.0\n",
       "37    45.0      3.0  583.0   5.0  25.0   888.0       1.0     0.0        0.0\n",
       "115   44.0      3.0  590.0   5.0  25.0   874.0       1.0     0.0        0.0\n",
       "153   43.0      2.0  593.0   4.0  30.0   465.0       2.0     1.0        0.0\n",
       "47    42.0      2.0  539.0   5.0  50.0   721.0       1.0     0.0        0.0\n",
       "141   42.0      3.0  584.0   5.0  25.0   812.0       1.0     0.0        0.0\n",
       "151   42.0      3.0  585.0   5.0  50.0   713.0       1.0     0.0        0.0\n",
       "72    39.0      2.0  701.0   6.0  25.0   500.0       1.0     0.0        0.0\n",
       "124   39.0      4.0  744.0   6.0  25.0   531.0       1.0     0.0        0.0\n",
       "125   39.0      2.0  563.0   5.0  50.0   755.0       1.0     0.0        0.0\n",
       "20    38.0      3.0  743.0   6.0  25.0   489.0       1.0     0.0        0.0\n",
       "98    36.0      3.0  777.0   6.0  25.0   449.0       1.0     0.0        0.0"
      ]
     },
     "execution_count": 99,
     "metadata": {},
     "output_type": "execute_result"
    }
   ],
   "source": [
    "path[path['Space'] < 800].sort_values('Price', ascending=False).dropna()\n"
   ]
  },
  {
   "cell_type": "code",
   "execution_count": 31,
   "metadata": {
    "ExecuteTime": {
     "end_time": "2021-03-15T20:05:14.149559Z",
     "start_time": "2021-03-15T20:05:14.139460Z"
    }
   },
   "outputs": [
    {
     "data": {
      "text/plain": [
       "mean     911.707483\n",
       "std      443.263430\n",
       "50%      821.000000\n",
       "min      418.000000\n",
       "max     2752.000000\n",
       "Name: Tax, dtype: float64"
      ]
     },
     "execution_count": 31,
     "metadata": {},
     "output_type": "execute_result"
    }
   ],
   "source": [
    "path.Tax.describe()[['mean', 'std', '50%', 'min', 'max']]"
   ]
  },
  {
   "cell_type": "code",
   "execution_count": null,
   "metadata": {},
   "outputs": [],
   "source": []
  }
 ],
 "metadata": {
  "kernelspec": {
   "display_name": "Python 3",
   "language": "python",
   "name": "python3"
  },
  "language_info": {
   "codemirror_mode": {
    "name": "ipython",
    "version": 3
   },
   "file_extension": ".py",
   "mimetype": "text/x-python",
   "name": "python",
   "nbconvert_exporter": "python",
   "pygments_lexer": "ipython3",
   "version": "3.6.9"
  },
  "toc": {
   "base_numbering": 1,
   "nav_menu": {},
   "number_sections": true,
   "sideBar": true,
   "skip_h1_title": false,
   "title_cell": "Table of Contents",
   "title_sidebar": "Contents",
   "toc_cell": false,
   "toc_position": {},
   "toc_section_display": true,
   "toc_window_display": false
  },
  "varInspector": {
   "cols": {
    "lenName": 16,
    "lenType": 16,
    "lenVar": 40
   },
   "kernels_config": {
    "python": {
     "delete_cmd_postfix": "",
     "delete_cmd_prefix": "del ",
     "library": "var_list.py",
     "varRefreshCmd": "print(var_dic_list())"
    },
    "r": {
     "delete_cmd_postfix": ") ",
     "delete_cmd_prefix": "rm(",
     "library": "var_list.r",
     "varRefreshCmd": "cat(var_dic_list()) "
    }
   },
   "types_to_exclude": [
    "module",
    "function",
    "builtin_function_or_method",
    "instance",
    "_Feature"
   ],
   "window_display": false
  }
 },
 "nbformat": 4,
 "nbformat_minor": 2
}
